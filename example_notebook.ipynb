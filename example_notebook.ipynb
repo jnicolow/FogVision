{
 "cells": [
  {
   "cell_type": "code",
   "execution_count": null,
   "id": "cdd1ae4b",
   "metadata": {},
   "outputs": [],
   "source": [
    "import torch\n",
    "import joblib\n",
    "import torch.nn as nn\n",
    "import torchvision.models as models\n",
    "\n",
    "from fogvision import gpuutils\n",
    "from fogvision import fogimageclass"
   ]
  },
  {
   "cell_type": "markdown",
   "id": "4728cc6c",
   "metadata": {},
   "source": [
    "# FogVision Image Inference"
   ]
  },
  {
   "cell_type": "code",
   "execution_count": null,
   "id": "bf36e8b8",
   "metadata": {},
   "outputs": [],
   "source": []
  }
 ],
 "metadata": {
  "kernelspec": {
   "display_name": "fogvision",
   "language": "python",
   "name": "python3"
  },
  "language_info": {
   "codemirror_mode": {
    "name": "ipython",
    "version": 3
   },
   "file_extension": ".py",
   "mimetype": "text/x-python",
   "name": "python",
   "nbconvert_exporter": "python",
   "pygments_lexer": "ipython3",
   "version": "3.11.11"
  }
 },
 "nbformat": 4,
 "nbformat_minor": 5
}
