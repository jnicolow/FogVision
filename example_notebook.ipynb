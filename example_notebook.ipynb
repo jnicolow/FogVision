{
 "cells": [
  {
   "cell_type": "code",
   "execution_count": 4,
   "id": "cdd1ae4b",
   "metadata": {},
   "outputs": [],
   "source": [
    "import os\n",
    "\n",
    "\n",
    "import joblib\n",
    "import torch.nn as nn\n",
    "import torchvision.models as models\n",
    "\n",
    "from fogvision import gpuutils\n",
    "from fogvision import fogimageclass"
   ]
  },
  {
   "cell_type": "markdown",
   "id": "4728cc6c",
   "metadata": {},
   "source": [
    "# FogVision Image Inference"
   ]
  },
  {
   "cell_type": "code",
   "execution_count": 8,
   "id": "bf36e8b8",
   "metadata": {},
   "outputs": [
    {
     "name": "stdout",
     "output_type": "stream",
     "text": [
      "cuda:1\n",
      "\n"
     ]
    }
   ],
   "source": [
    "# initialize embedder \n",
    "basemodel = models.resnet50(pretrained=True)\n",
    "\n",
    "num_ftrs = basemodel.fc.in_features\n",
    "basemodel.fc = nn.Identity()  # Set the classification layer to identity to output embeddings\n",
    "\n",
    "# Put the model in evaluation mode\n",
    "device = gpuutils.get_gpu_most_memory()\n",
    "print(device)\n",
    "\n",
    "model = basemodel.to(device)\n",
    "model.eval()\n",
    "print() # so model being set to eval isnt printed out\n",
    "\n",
    "\n",
    "# initialize classification heads\n",
    "DoN_classif_head = joblib.load(os.path.join('models', f'DoN_classif_model.pkl'))\n",
    "diurnal_classif_head = joblib.load(os.path.join('models', f'fogvision_inference_head_model_diurnal.pkl'))\n",
    "nocturnal_classif_head = joblib.load(os.path.join('models', f'fogvision_inference_head_model_nocturnal.pkl'))"
   ]
  }
 ],
 "metadata": {
  "kernelspec": {
   "display_name": "fogvision",
   "language": "python",
   "name": "python3"
  },
  "language_info": {
   "codemirror_mode": {
    "name": "ipython",
    "version": 3
   },
   "file_extension": ".py",
   "mimetype": "text/x-python",
   "name": "python",
   "nbconvert_exporter": "python",
   "pygments_lexer": "ipython3",
   "version": "3.11.11"
  }
 },
 "nbformat": 4,
 "nbformat_minor": 5
}
