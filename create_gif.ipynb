{
 "cells": [
  {
   "cell_type": "code",
   "execution_count": 3,
   "id": "cdd1ae4b",
   "metadata": {},
   "outputs": [],
   "source": [
    "# import modules\n",
    "import os\n",
    "from glob import glob\n",
    "import joblib\n",
    "\n",
    "import torch\n",
    "import torch.nn as nn\n",
    "import torchvision.models as models\n",
    "\n",
    "from fogvision import gpuutils\n",
    "from fogvision import fogimageclass"
   ]
  },
  {
   "cell_type": "markdown",
   "id": "4728cc6c",
   "metadata": {},
   "source": [
    "# FogVision image classification models\n",
    "There are two fogvision inference classification heads one for diurnal and one for nocturnal imagery; both working with resnet50 embeddings"
   ]
  },
  {
   "cell_type": "code",
   "execution_count": 4,
   "id": "bf36e8b8",
   "metadata": {},
   "outputs": [
    {
     "name": "stdout",
     "output_type": "stream",
     "text": [
      "cuda:0\n"
     ]
    }
   ],
   "source": [
    "# initialize embedder \n",
    "basemodel = models.resnet50(pretrained=True)\n",
    "\n",
    "num_ftrs = basemodel.fc.in_features\n",
    "basemodel.fc = nn.Identity()  # Set the classification layer to identity to output embeddings\n",
    "\n",
    "# choose device\n",
    "device = gpuutils.get_gpu_most_memory() # if gpus avaible get one with most memory\n",
    "print(device)\n",
    "\n",
    "# put the model in evaluation mode\n",
    "model = basemodel.to(device)\n",
    "model.eval()\n",
    "\n",
    "\n",
    "# initialize classification heads (saved from cpu)\n",
    "if 'cpu' in str(device):\n",
    "    diurnal_classif_head = torch.load(os.path.join('models', f'fogvision_inference_head_model_diurnal_cpu.pkl'), map_location=device) # NOTE when running model on cpu\n",
    "    nocturnal_classif_head = torch.load(os.path.join('models', f'fogvision_inference_head_model_nocturnal_cpu.pkl'), map_location=device) # when loading onto cuda\n",
    "else:\n",
    "    diurnal_classif_head = joblib.load(os.path.join('models', f'fogvision_inference_head_model_diurnal.pkl')) # NOTE when loading onto cuda\n",
    "    nocturnal_classif_head = joblib.load(os.path.join('models', f'fogvision_inference_head_model_nocturnal.pkl')) \n",
    "\n"
   ]
  },
  {
   "cell_type": "markdown",
   "id": "f12e0ab4",
   "metadata": {},
   "source": [
    "# FogVision image classification\n",
    "The fog image class can be used to classify images (as shown below). Given the image filepath, the embedding mode and the classification head model. If the image [center] is gray scale the nocturnal model will be used."
   ]
  },
  {
   "cell_type": "code",
   "execution_count": 34,
   "id": "d4ef1195",
   "metadata": {},
   "outputs": [
    {
     "name": "stdout",
     "output_type": "stream",
     "text": [
      "98\n",
      "['C:\\\\Users\\\\jnicolow\\\\Documents\\\\research\\\\fog\\\\training_data\\\\waiopai\\\\diurnal\\\\clearOfFog\\\\waiopai_2022-05-22_051000.jpg', 'C:\\\\Users\\\\jnicolow\\\\Documents\\\\research\\\\fog\\\\training_data\\\\waiopai\\\\diurnal\\\\clearOfFog\\\\waiopai_2022-05-22_052501.jpg', 'C:\\\\Users\\\\jnicolow\\\\Documents\\\\research\\\\fog\\\\training_data\\\\waiopai\\\\diurnal\\\\clearOfFog\\\\waiopai_2022-05-22_054003.jpg', 'C:\\\\Users\\\\jnicolow\\\\Documents\\\\research\\\\fog\\\\training_data\\\\waiopai\\\\diurnal\\\\clearOfFog\\\\waiopai_2022-05-22_055504.jpg', 'C:\\\\Users\\\\jnicolow\\\\Documents\\\\research\\\\fog\\\\training_data\\\\waiopai\\\\diurnal\\\\clearOfFog\\\\waiopai_2022-05-22_061005.jpg', 'C:\\\\Users\\\\jnicolow\\\\Documents\\\\research\\\\fog\\\\training_data\\\\waiopai\\\\diurnal\\\\clearOfFog\\\\waiopai_2022-05-22_062507.jpg', 'C:\\\\Users\\\\jnicolow\\\\Documents\\\\research\\\\fog\\\\training_data\\\\waiopai\\\\diurnal\\\\clearOfFog\\\\waiopai_2022-05-22_064008.jpg', 'C:\\\\Users\\\\jnicolow\\\\Documents\\\\research\\\\fog\\\\training_data\\\\waiopai\\\\diurnal\\\\clearOfFog\\\\waiopai_2022-05-22_065509.jpg', 'C:\\\\Users\\\\jnicolow\\\\Documents\\\\research\\\\fog\\\\training_data\\\\waiopai\\\\diurnal\\\\clearOfFog\\\\waiopai_2022-05-22_071011.jpg', 'C:\\\\Users\\\\jnicolow\\\\Documents\\\\research\\\\fog\\\\training_data\\\\waiopai\\\\diurnal\\\\clearOfFog\\\\waiopai_2022-05-22_072512.jpg', 'C:\\\\Users\\\\jnicolow\\\\Documents\\\\research\\\\fog\\\\training_data\\\\waiopai\\\\diurnal\\\\clearOfFog\\\\waiopai_2022-05-22_074014.jpg', 'C:\\\\Users\\\\jnicolow\\\\Documents\\\\research\\\\fog\\\\training_data\\\\waiopai\\\\diurnal\\\\clearOfFog\\\\waiopai_2022-05-22_075515.jpg', 'C:\\\\Users\\\\jnicolow\\\\Documents\\\\research\\\\fog\\\\training_data\\\\waiopai\\\\diurnal\\\\clearOfFog\\\\waiopai_2022-05-22_081016.jpg', 'C:\\\\Users\\\\jnicolow\\\\Documents\\\\research\\\\fog\\\\training_data\\\\waiopai\\\\diurnal\\\\clearOfFog\\\\waiopai_2022-05-22_082518.jpg', 'C:\\\\Users\\\\jnicolow\\\\Documents\\\\research\\\\fog\\\\training_data\\\\waiopai\\\\diurnal\\\\clearOfFog\\\\waiopai_2022-05-22_084019.jpg', 'C:\\\\Users\\\\jnicolow\\\\Documents\\\\research\\\\fog\\\\training_data\\\\waiopai\\\\diurnal\\\\clearOfFog\\\\waiopai_2022-05-22_085521.jpg', 'C:\\\\Users\\\\jnicolow\\\\Documents\\\\research\\\\fog\\\\training_data\\\\waiopai\\\\diurnal\\\\clearOfFog\\\\waiopai_2022-05-22_091022.jpg', 'C:\\\\Users\\\\jnicolow\\\\Documents\\\\research\\\\fog\\\\training_data\\\\waiopai\\\\diurnal\\\\clearOfFog\\\\waiopai_2022-05-22_092524.jpg', 'C:\\\\Users\\\\jnicolow\\\\Documents\\\\research\\\\fog\\\\training_data\\\\waiopai\\\\diurnal\\\\clearOfFog\\\\waiopai_2022-05-22_094025.jpg', 'C:\\\\Users\\\\jnicolow\\\\Documents\\\\research\\\\fog\\\\training_data\\\\waiopai\\\\diurnal\\\\clearOfFog\\\\waiopai_2022-05-22_095526.jpg', 'C:\\\\Users\\\\jnicolow\\\\Documents\\\\research\\\\fog\\\\training_data\\\\waiopai\\\\diurnal\\\\clearOfFog\\\\waiopai_2022-05-22_101028.jpg', 'C:\\\\Users\\\\jnicolow\\\\Documents\\\\research\\\\fog\\\\training_data\\\\waiopai\\\\diurnal\\\\clearOfFog\\\\waiopai_2022-05-22_102529.jpg', 'C:\\\\Users\\\\jnicolow\\\\Documents\\\\research\\\\fog\\\\training_data\\\\waiopai\\\\diurnal\\\\clearOfFog\\\\waiopai_2022-05-22_104031.jpg', 'C:\\\\Users\\\\jnicolow\\\\Documents\\\\research\\\\fog\\\\training_data\\\\waiopai\\\\diurnal\\\\clearOfFog\\\\waiopai_2022-05-22_105532.jpg', 'C:\\\\Users\\\\jnicolow\\\\Documents\\\\research\\\\fog\\\\training_data\\\\waiopai\\\\diurnal\\\\clearOfFog\\\\waiopai_2022-05-22_111033.jpg', 'C:\\\\Users\\\\jnicolow\\\\Documents\\\\research\\\\fog\\\\training_data\\\\waiopai\\\\diurnal\\\\clearOfFog\\\\waiopai_2022-05-22_112535.jpg', 'C:\\\\Users\\\\jnicolow\\\\Documents\\\\research\\\\fog\\\\training_data\\\\waiopai\\\\diurnal\\\\clearOfFog\\\\waiopai_2022-05-22_114036.jpg', 'C:\\\\Users\\\\jnicolow\\\\Documents\\\\research\\\\fog\\\\training_data\\\\waiopai\\\\diurnal\\\\clearOfFog\\\\waiopai_2022-05-22_115538.jpg', 'C:\\\\Users\\\\jnicolow\\\\Documents\\\\research\\\\fog\\\\training_data\\\\waiopai\\\\diurnal\\\\clearOfFog\\\\waiopai_2022-05-22_121039.jpg', 'C:\\\\Users\\\\jnicolow\\\\Documents\\\\research\\\\fog\\\\training_data\\\\waiopai\\\\diurnal\\\\clearOfFog\\\\waiopai_2022-05-22_122540.jpg', 'C:\\\\Users\\\\jnicolow\\\\Documents\\\\research\\\\fog\\\\training_data\\\\waiopai\\\\diurnal\\\\clearOfFog\\\\waiopai_2022-05-22_124042.jpg', 'C:\\\\Users\\\\jnicolow\\\\Documents\\\\research\\\\fog\\\\training_data\\\\waiopai\\\\diurnal\\\\clearOfFog\\\\waiopai_2022-05-22_125543.jpg', 'C:\\\\Users\\\\jnicolow\\\\Documents\\\\research\\\\fog\\\\training_data\\\\waiopai\\\\diurnal\\\\clearOfFog\\\\waiopai_2022-05-22_131044.jpg', 'C:\\\\Users\\\\jnicolow\\\\Documents\\\\research\\\\fog\\\\training_data\\\\waiopai\\\\diurnal\\\\clearOfFog\\\\waiopai_2022-05-22_132545.jpg', 'C:\\\\Users\\\\jnicolow\\\\Documents\\\\research\\\\fog\\\\training_data\\\\waiopai\\\\diurnal\\\\clearOfFog\\\\waiopai_2022-05-22_134047.jpg', 'C:\\\\Users\\\\jnicolow\\\\Documents\\\\research\\\\fog\\\\training_data\\\\waiopai\\\\diurnal\\\\clearOfFog\\\\waiopai_2022-05-22_135548.jpg', 'C:\\\\Users\\\\jnicolow\\\\Documents\\\\research\\\\fog\\\\training_data\\\\waiopai\\\\diurnal\\\\clearOfFog\\\\waiopai_2022-05-22_141049.jpg', 'C:\\\\Users\\\\jnicolow\\\\Documents\\\\research\\\\fog\\\\training_data\\\\waiopai\\\\diurnal\\\\clearOfFog\\\\waiopai_2022-05-22_142551.jpg', 'C:\\\\Users\\\\jnicolow\\\\Documents\\\\research\\\\fog\\\\training_data\\\\waiopai\\\\diurnal\\\\clearOfFog\\\\waiopai_2022-05-22_144052.jpg', 'C:\\\\Users\\\\jnicolow\\\\Documents\\\\research\\\\fog\\\\training_data\\\\waiopai\\\\diurnal\\\\clearOfFog\\\\waiopai_2022-05-22_145553.jpg', 'C:\\\\Users\\\\jnicolow\\\\Documents\\\\research\\\\fog\\\\training_data\\\\waiopai\\\\diurnal\\\\clearOfFog\\\\waiopai_2022-05-22_151055.jpg', 'C:\\\\Users\\\\jnicolow\\\\Documents\\\\research\\\\fog\\\\training_data\\\\waiopai\\\\diurnal\\\\clearOfFog\\\\waiopai_2022-05-22_152556.jpg', 'C:\\\\Users\\\\jnicolow\\\\Documents\\\\research\\\\fog\\\\training_data\\\\waiopai\\\\diurnal\\\\clearOfFog\\\\waiopai_2022-05-22_154057.jpg', 'C:\\\\Users\\\\jnicolow\\\\Documents\\\\research\\\\fog\\\\training_data\\\\waiopai\\\\diurnal\\\\clearOfFog\\\\waiopai_2022-05-22_155559.jpg', 'C:\\\\Users\\\\jnicolow\\\\Documents\\\\research\\\\fog\\\\training_data\\\\waiopai\\\\diurnal\\\\clearOfFog\\\\waiopai_2022-05-22_161100.jpg', 'C:\\\\Users\\\\jnicolow\\\\Documents\\\\research\\\\fog\\\\training_data\\\\waiopai\\\\diurnal\\\\clearOfFog\\\\waiopai_2022-05-22_162602.jpg', 'C:\\\\Users\\\\jnicolow\\\\Documents\\\\research\\\\fog\\\\training_data\\\\waiopai\\\\diurnal\\\\clearOfFog\\\\waiopai_2022-05-22_164103.jpg', 'C:\\\\Users\\\\jnicolow\\\\Documents\\\\research\\\\fog\\\\training_data\\\\waiopai\\\\diurnal\\\\clearOfFog\\\\waiopai_2022-05-22_165604.jpg', 'C:\\\\Users\\\\jnicolow\\\\Documents\\\\research\\\\fog\\\\training_data\\\\waiopai\\\\diurnal\\\\clearOfFog\\\\waiopai_2022-05-22_171106.jpg', 'C:\\\\Users\\\\jnicolow\\\\Documents\\\\research\\\\fog\\\\training_data\\\\waiopai\\\\diurnal\\\\clearOfFog\\\\waiopai_2022-05-22_172607.jpg', 'C:\\\\Users\\\\jnicolow\\\\Documents\\\\research\\\\fog\\\\training_data\\\\waiopai\\\\diurnal\\\\clearOfFog\\\\waiopai_2022-05-22_174108.jpg', 'C:\\\\Users\\\\jnicolow\\\\Documents\\\\research\\\\fog\\\\training_data\\\\waiopai\\\\diurnal\\\\clearOfFog\\\\waiopai_2022-05-22_175610.jpg', 'C:\\\\Users\\\\jnicolow\\\\Documents\\\\research\\\\fog\\\\training_data\\\\waiopai\\\\diurnal\\\\clearOfFog\\\\waiopai_2022-05-22_181111.jpg', 'C:\\\\Users\\\\jnicolow\\\\Documents\\\\research\\\\fog\\\\training_data\\\\waiopai\\\\diurnal\\\\clearOfFog\\\\waiopai_2022-05-22_182612.jpg', 'C:\\\\Users\\\\jnicolow\\\\Documents\\\\research\\\\fog\\\\training_data\\\\waiopai\\\\diurnal\\\\clearOfFog\\\\waiopai_2022-05-22_184114.jpg', 'C:\\\\Users\\\\jnicolow\\\\Documents\\\\research\\\\fog\\\\training_data\\\\waiopai\\\\diurnal\\\\clearOfFog\\\\waiopai_2022-05-22_185615.jpg', 'C:\\\\Users\\\\jnicolow\\\\Documents\\\\research\\\\fog\\\\training_data\\\\waiopai\\\\diurnal\\\\clearOfFog\\\\waiopai_2022-05-22_191116.jpg', 'C:\\\\Users\\\\jnicolow\\\\Documents\\\\research\\\\fog\\\\training_data\\\\waiopai\\\\diurnal\\\\clearOfFog\\\\waiopai_2022-05-22_192618.jpg', 'C:\\\\Users\\\\jnicolow\\\\Documents\\\\research\\\\fog\\\\training_data\\\\waiopai\\\\nocturnal\\\\clearOfFog\\\\waiopai_2022-05-22_012440.jpg', 'C:\\\\Users\\\\jnicolow\\\\Documents\\\\research\\\\fog\\\\training_data\\\\waiopai\\\\nocturnal\\\\clearOfFog\\\\waiopai_2022-05-22_013942.jpg', 'C:\\\\Users\\\\jnicolow\\\\Documents\\\\research\\\\fog\\\\training_data\\\\waiopai\\\\nocturnal\\\\clearOfFog\\\\waiopai_2022-05-22_015443.jpg', 'C:\\\\Users\\\\jnicolow\\\\Documents\\\\research\\\\fog\\\\training_data\\\\waiopai\\\\nocturnal\\\\clearOfFog\\\\waiopai_2022-05-22_020944.jpg', 'C:\\\\Users\\\\jnicolow\\\\Documents\\\\research\\\\fog\\\\training_data\\\\waiopai\\\\nocturnal\\\\clearOfFog\\\\waiopai_2022-05-22_022445.jpg', 'C:\\\\Users\\\\jnicolow\\\\Documents\\\\research\\\\fog\\\\training_data\\\\waiopai\\\\nocturnal\\\\clearOfFog\\\\waiopai_2022-05-22_030949.jpg', 'C:\\\\Users\\\\jnicolow\\\\Documents\\\\research\\\\fog\\\\training_data\\\\waiopai\\\\nocturnal\\\\clearOfFog\\\\waiopai_2022-05-22_040955.jpg', 'C:\\\\Users\\\\jnicolow\\\\Documents\\\\research\\\\fog\\\\training_data\\\\waiopai\\\\nocturnal\\\\clearOfFog\\\\waiopai_2022-05-22_042456.jpg', 'C:\\\\Users\\\\jnicolow\\\\Documents\\\\research\\\\fog\\\\training_data\\\\waiopai\\\\nocturnal\\\\clearOfFog\\\\waiopai_2022-05-22_043957.jpg', 'C:\\\\Users\\\\jnicolow\\\\Documents\\\\research\\\\fog\\\\training_data\\\\waiopai\\\\nocturnal\\\\clearOfFog\\\\waiopai_2022-05-22_051000.jpg', 'C:\\\\Users\\\\jnicolow\\\\Documents\\\\research\\\\fog\\\\training_data\\\\waiopai\\\\nocturnal\\\\clearOfFog\\\\waiopai_2022-05-22_192618.jpg', 'C:\\\\Users\\\\jnicolow\\\\Documents\\\\research\\\\fog\\\\training_data\\\\waiopai\\\\nocturnal\\\\clearOfFog\\\\waiopai_2022-05-22_194119.jpg', 'C:\\\\Users\\\\jnicolow\\\\Documents\\\\research\\\\fog\\\\training_data\\\\waiopai\\\\nocturnal\\\\clearOfFog\\\\waiopai_2022-05-22_195620.jpg', 'C:\\\\Users\\\\jnicolow\\\\Documents\\\\research\\\\fog\\\\training_data\\\\waiopai\\\\nocturnal\\\\clearOfFog\\\\waiopai_2022-05-22_201121.jpg', 'C:\\\\Users\\\\jnicolow\\\\Documents\\\\research\\\\fog\\\\training_data\\\\waiopai\\\\nocturnal\\\\clearOfFog\\\\waiopai_2022-05-22_202623.jpg', 'C:\\\\Users\\\\jnicolow\\\\Documents\\\\research\\\\fog\\\\training_data\\\\waiopai\\\\nocturnal\\\\clearOfFog\\\\waiopai_2022-05-22_204124.jpg', 'C:\\\\Users\\\\jnicolow\\\\Documents\\\\research\\\\fog\\\\training_data\\\\waiopai\\\\nocturnal\\\\clearOfFog\\\\waiopai_2022-05-22_205625.jpg', 'C:\\\\Users\\\\jnicolow\\\\Documents\\\\research\\\\fog\\\\training_data\\\\waiopai\\\\nocturnal\\\\clearOfFog\\\\waiopai_2022-05-22_211127.jpg', 'C:\\\\Users\\\\jnicolow\\\\Documents\\\\research\\\\fog\\\\training_data\\\\waiopai\\\\nocturnal\\\\clearOfFog\\\\waiopai_2022-05-22_212628.jpg', 'C:\\\\Users\\\\jnicolow\\\\Documents\\\\research\\\\fog\\\\training_data\\\\waiopai\\\\nocturnal\\\\clearOfFog\\\\waiopai_2022-05-22_214129.jpg', 'C:\\\\Users\\\\jnicolow\\\\Documents\\\\research\\\\fog\\\\training_data\\\\waiopai\\\\nocturnal\\\\clearOfFog\\\\waiopai_2022-05-22_215631.jpg', 'C:\\\\Users\\\\jnicolow\\\\Documents\\\\research\\\\fog\\\\training_data\\\\waiopai\\\\nocturnal\\\\clearOfFog\\\\waiopai_2022-05-22_221132.jpg', 'C:\\\\Users\\\\jnicolow\\\\Documents\\\\research\\\\fog\\\\training_data\\\\waiopai\\\\nocturnal\\\\clearOfFog\\\\waiopai_2022-05-22_222633.jpg', 'C:\\\\Users\\\\jnicolow\\\\Documents\\\\research\\\\fog\\\\training_data\\\\waiopai\\\\nocturnal\\\\clearOfFog\\\\waiopai_2022-05-22_224135.jpg', 'C:\\\\Users\\\\jnicolow\\\\Documents\\\\research\\\\fog\\\\training_data\\\\waiopai\\\\nocturnal\\\\clearOfFog\\\\waiopai_2022-05-22_225636.jpg', 'C:\\\\Users\\\\jnicolow\\\\Documents\\\\research\\\\fog\\\\training_data\\\\waiopai\\\\nocturnal\\\\clearOfFog\\\\waiopai_2022-05-22_231137.jpg', 'C:\\\\Users\\\\jnicolow\\\\Documents\\\\research\\\\fog\\\\training_data\\\\waiopai\\\\nocturnal\\\\clearOfFog\\\\waiopai_2022-05-22_232638.jpg', 'C:\\\\Users\\\\jnicolow\\\\Documents\\\\research\\\\fog\\\\training_data\\\\waiopai\\\\nocturnal\\\\clearOfFog\\\\waiopai_2022-05-22_234140.jpg', 'C:\\\\Users\\\\jnicolow\\\\Documents\\\\research\\\\fog\\\\training_data\\\\waiopai\\\\nocturnal\\\\clearOfFog\\\\waiopai_2022-05-22_235641.jpg', 'C:\\\\Users\\\\jnicolow\\\\Documents\\\\research\\\\fog\\\\training_data\\\\waiopai\\\\nocturnal\\\\fog\\\\waiopai_2022-05-22_000934.jpg', 'C:\\\\Users\\\\jnicolow\\\\Documents\\\\research\\\\fog\\\\training_data\\\\waiopai\\\\nocturnal\\\\fog\\\\waiopai_2022-05-22_002435.jpg', 'C:\\\\Users\\\\jnicolow\\\\Documents\\\\research\\\\fog\\\\training_data\\\\waiopai\\\\nocturnal\\\\fog\\\\waiopai_2022-05-22_003936.jpg', 'C:\\\\Users\\\\jnicolow\\\\Documents\\\\research\\\\fog\\\\training_data\\\\waiopai\\\\nocturnal\\\\fog\\\\waiopai_2022-05-22_005438.jpg', 'C:\\\\Users\\\\jnicolow\\\\Documents\\\\research\\\\fog\\\\training_data\\\\waiopai\\\\nocturnal\\\\fog\\\\waiopai_2022-05-22_010939.jpg', 'C:\\\\Users\\\\jnicolow\\\\Documents\\\\research\\\\fog\\\\training_data\\\\waiopai\\\\nocturnal\\\\fog\\\\waiopai_2022-05-22_023947.jpg', 'C:\\\\Users\\\\jnicolow\\\\Documents\\\\research\\\\fog\\\\training_data\\\\waiopai\\\\nocturnal\\\\fog\\\\waiopai_2022-05-22_025448.jpg', 'C:\\\\Users\\\\jnicolow\\\\Documents\\\\research\\\\fog\\\\training_data\\\\waiopai\\\\nocturnal\\\\fog\\\\waiopai_2022-05-22_032451.jpg', 'C:\\\\Users\\\\jnicolow\\\\Documents\\\\research\\\\fog\\\\training_data\\\\waiopai\\\\nocturnal\\\\fog\\\\waiopai_2022-05-22_033952.jpg', 'C:\\\\Users\\\\jnicolow\\\\Documents\\\\research\\\\fog\\\\training_data\\\\waiopai\\\\nocturnal\\\\fog\\\\waiopai_2022-05-22_035453.jpg', 'C:\\\\Users\\\\jnicolow\\\\Documents\\\\research\\\\fog\\\\training_data\\\\waiopai\\\\nocturnal\\\\fog\\\\waiopai_2022-05-22_045459.jpg']\n"
     ]
    }
   ],
   "source": [
    "# get a list of filenames for a given day\n",
    "from datetime import datetime\n",
    "data_dir = r'C:\\Users\\jnicolow\\Documents\\research\\fog\\training_data\\waiopai'\n",
    "\n",
    "file_names = glob(os.path.join(data_dir, '*', '*', '*.jpg'))\n",
    "\n",
    "target_date = \"2022-05-20\"\n",
    "target_date = \"2022-05-22\"\n",
    "# target_date = \"2022-05-21\"\n",
    "\n",
    "image_fns = [f for f in file_names if target_date in f]\n",
    "\n",
    "files_on_date_sorted = sorted(\n",
    "    image_fns,\n",
    "    key=lambda f: datetime.strptime(os.path.basename(f).split('_')[1] + \"_\" + os.path.basename(f).split('_')[2].split('.')[0],\n",
    "                                    \"%Y-%m-%d_%H%M%S\")\n",
    ")\n",
    "\n",
    "print(len(image_fns))\n",
    "print(image_fns)"
   ]
  },
  {
   "cell_type": "code",
   "execution_count": 35,
   "id": "2eef222a",
   "metadata": {},
   "outputs": [
    {
     "name": "stdout",
     "output_type": "stream",
     "text": [
      "Image saved to media\\example_images\\waiopai_2022-05-22_051000.jpg.png\n",
      "Image saved to media\\example_images\\waiopai_2022-05-22_052501.jpg.png\n",
      "Image saved to media\\example_images\\waiopai_2022-05-22_054003.jpg.png\n",
      "Image saved to media\\example_images\\waiopai_2022-05-22_055504.jpg.png\n",
      "Image saved to media\\example_images\\waiopai_2022-05-22_061005.jpg.png\n",
      "Image saved to media\\example_images\\waiopai_2022-05-22_062507.jpg.png\n",
      "Image saved to media\\example_images\\waiopai_2022-05-22_064008.jpg.png\n",
      "Image saved to media\\example_images\\waiopai_2022-05-22_065509.jpg.png\n",
      "Image saved to media\\example_images\\waiopai_2022-05-22_071011.jpg.png\n",
      "Image saved to media\\example_images\\waiopai_2022-05-22_072512.jpg.png\n",
      "Image saved to media\\example_images\\waiopai_2022-05-22_074014.jpg.png\n",
      "Image saved to media\\example_images\\waiopai_2022-05-22_075515.jpg.png\n",
      "Image saved to media\\example_images\\waiopai_2022-05-22_081016.jpg.png\n",
      "Image saved to media\\example_images\\waiopai_2022-05-22_082518.jpg.png\n",
      "Image saved to media\\example_images\\waiopai_2022-05-22_084019.jpg.png\n",
      "Image saved to media\\example_images\\waiopai_2022-05-22_085521.jpg.png\n",
      "Image saved to media\\example_images\\waiopai_2022-05-22_091022.jpg.png\n",
      "Image saved to media\\example_images\\waiopai_2022-05-22_092524.jpg.png\n",
      "Image saved to media\\example_images\\waiopai_2022-05-22_094025.jpg.png\n",
      "Image saved to media\\example_images\\waiopai_2022-05-22_095526.jpg.png\n",
      "Image saved to media\\example_images\\waiopai_2022-05-22_101028.jpg.png\n",
      "Image saved to media\\example_images\\waiopai_2022-05-22_102529.jpg.png\n",
      "Image saved to media\\example_images\\waiopai_2022-05-22_104031.jpg.png\n",
      "Image saved to media\\example_images\\waiopai_2022-05-22_105532.jpg.png\n",
      "Image saved to media\\example_images\\waiopai_2022-05-22_111033.jpg.png\n",
      "Image saved to media\\example_images\\waiopai_2022-05-22_112535.jpg.png\n",
      "Image saved to media\\example_images\\waiopai_2022-05-22_114036.jpg.png\n",
      "Image saved to media\\example_images\\waiopai_2022-05-22_115538.jpg.png\n",
      "Image saved to media\\example_images\\waiopai_2022-05-22_121039.jpg.png\n",
      "Image saved to media\\example_images\\waiopai_2022-05-22_122540.jpg.png\n",
      "Image saved to media\\example_images\\waiopai_2022-05-22_124042.jpg.png\n",
      "Image saved to media\\example_images\\waiopai_2022-05-22_125543.jpg.png\n",
      "Image saved to media\\example_images\\waiopai_2022-05-22_131044.jpg.png\n",
      "Image saved to media\\example_images\\waiopai_2022-05-22_132545.jpg.png\n",
      "Image saved to media\\example_images\\waiopai_2022-05-22_134047.jpg.png\n",
      "Image saved to media\\example_images\\waiopai_2022-05-22_135548.jpg.png\n",
      "Image saved to media\\example_images\\waiopai_2022-05-22_141049.jpg.png\n",
      "Image saved to media\\example_images\\waiopai_2022-05-22_142551.jpg.png\n",
      "Image saved to media\\example_images\\waiopai_2022-05-22_144052.jpg.png\n",
      "Image saved to media\\example_images\\waiopai_2022-05-22_145553.jpg.png\n",
      "Image saved to media\\example_images\\waiopai_2022-05-22_151055.jpg.png\n",
      "Image saved to media\\example_images\\waiopai_2022-05-22_152556.jpg.png\n",
      "Image saved to media\\example_images\\waiopai_2022-05-22_154057.jpg.png\n",
      "Image saved to media\\example_images\\waiopai_2022-05-22_155559.jpg.png\n",
      "Image saved to media\\example_images\\waiopai_2022-05-22_161100.jpg.png\n",
      "Image saved to media\\example_images\\waiopai_2022-05-22_162602.jpg.png\n",
      "Image saved to media\\example_images\\waiopai_2022-05-22_164103.jpg.png\n",
      "Image saved to media\\example_images\\waiopai_2022-05-22_165604.jpg.png\n",
      "Image saved to media\\example_images\\waiopai_2022-05-22_171106.jpg.png\n",
      "Image saved to media\\example_images\\waiopai_2022-05-22_172607.jpg.png\n",
      "Image saved to media\\example_images\\waiopai_2022-05-22_174108.jpg.png\n",
      "Image saved to media\\example_images\\waiopai_2022-05-22_175610.jpg.png\n",
      "Image saved to media\\example_images\\waiopai_2022-05-22_181111.jpg.png\n",
      "Image saved to media\\example_images\\waiopai_2022-05-22_182612.jpg.png\n",
      "Image saved to media\\example_images\\waiopai_2022-05-22_184114.jpg.png\n",
      "Image saved to media\\example_images\\waiopai_2022-05-22_185615.jpg.png\n",
      "Image saved to media\\example_images\\waiopai_2022-05-22_191116.jpg.png\n",
      "Image saved to media\\example_images\\waiopai_2022-05-22_192618.jpg.png\n",
      "Image saved to media\\example_images\\waiopai_2022-05-22_012440.jpg.png\n",
      "Image saved to media\\example_images\\waiopai_2022-05-22_013942.jpg.png\n",
      "Image saved to media\\example_images\\waiopai_2022-05-22_015443.jpg.png\n",
      "Image saved to media\\example_images\\waiopai_2022-05-22_020944.jpg.png\n",
      "Image saved to media\\example_images\\waiopai_2022-05-22_022445.jpg.png\n",
      "Image saved to media\\example_images\\waiopai_2022-05-22_030949.jpg.png\n",
      "Image saved to media\\example_images\\waiopai_2022-05-22_040955.jpg.png\n",
      "Image saved to media\\example_images\\waiopai_2022-05-22_042456.jpg.png\n",
      "Image saved to media\\example_images\\waiopai_2022-05-22_043957.jpg.png\n",
      "Image saved to media\\example_images\\waiopai_2022-05-22_051000.jpg.png\n",
      "Image saved to media\\example_images\\waiopai_2022-05-22_192618.jpg.png\n",
      "Image saved to media\\example_images\\waiopai_2022-05-22_194119.jpg.png\n",
      "Image saved to media\\example_images\\waiopai_2022-05-22_195620.jpg.png\n",
      "Image saved to media\\example_images\\waiopai_2022-05-22_201121.jpg.png\n",
      "Image saved to media\\example_images\\waiopai_2022-05-22_202623.jpg.png\n",
      "Image saved to media\\example_images\\waiopai_2022-05-22_204124.jpg.png\n",
      "Image saved to media\\example_images\\waiopai_2022-05-22_205625.jpg.png\n",
      "Image saved to media\\example_images\\waiopai_2022-05-22_211127.jpg.png\n",
      "Image saved to media\\example_images\\waiopai_2022-05-22_212628.jpg.png\n",
      "Image saved to media\\example_images\\waiopai_2022-05-22_214129.jpg.png\n",
      "Image saved to media\\example_images\\waiopai_2022-05-22_215631.jpg.png\n",
      "Image saved to media\\example_images\\waiopai_2022-05-22_221132.jpg.png\n",
      "Image saved to media\\example_images\\waiopai_2022-05-22_222633.jpg.png\n",
      "Image saved to media\\example_images\\waiopai_2022-05-22_224135.jpg.png\n",
      "Image saved to media\\example_images\\waiopai_2022-05-22_225636.jpg.png\n",
      "Image saved to media\\example_images\\waiopai_2022-05-22_231137.jpg.png\n",
      "Image saved to media\\example_images\\waiopai_2022-05-22_232638.jpg.png\n",
      "Image saved to media\\example_images\\waiopai_2022-05-22_234140.jpg.png\n",
      "Image saved to media\\example_images\\waiopai_2022-05-22_235641.jpg.png\n",
      "Image saved to media\\example_images\\waiopai_2022-05-22_000934.jpg.png\n",
      "Image saved to media\\example_images\\waiopai_2022-05-22_002435.jpg.png\n",
      "Image saved to media\\example_images\\waiopai_2022-05-22_003936.jpg.png\n",
      "Image saved to media\\example_images\\waiopai_2022-05-22_005438.jpg.png\n",
      "Image saved to media\\example_images\\waiopai_2022-05-22_010939.jpg.png\n",
      "Image saved to media\\example_images\\waiopai_2022-05-22_023947.jpg.png\n",
      "Image saved to media\\example_images\\waiopai_2022-05-22_025448.jpg.png\n",
      "Image saved to media\\example_images\\waiopai_2022-05-22_032451.jpg.png\n",
      "Image saved to media\\example_images\\waiopai_2022-05-22_033952.jpg.png\n",
      "Image saved to media\\example_images\\waiopai_2022-05-22_035453.jpg.png\n",
      "Image saved to media\\example_images\\waiopai_2022-05-22_045459.jpg.png\n"
     ]
    }
   ],
   "source": [
    "import importlib\n",
    "importlib.reload(fogimageclass)\n",
    "# image_fns = glob(os.path.join('data', 'images', '*.jpg')) # NOTE use the ones selected above\n",
    "\n",
    "crop_size = None # if crop size is None then it will take largest crop possible\n",
    "\n",
    "for fn in image_fns:\n",
    "    fog_img_class = fogimageclass.FogImage(filepath=fn, crop_size=crop_size)\n",
    "    if fog_img_class.nocturnal:\n",
    "        fog_img_class.get_fog_val(model=nocturnal_classif_head, embedding_model=basemodel, random_crop=False) # NOTE only takes image embedding from \n",
    "        # fog_img_class.get_fog_val_multiple_regions(model=nocturnal_classif_head, embedding_model=basemodel) # NOTE not ideal for images with a lot of open sky works best on forested environments\n",
    "    else:\n",
    "        fog_img_class.get_fog_val(model=diurnal_classif_head, embedding_model=basemodel, random_crop=False)\n",
    "        # fog_img_class.get_fog_val_multiple_regions(model=diurnal_classif_head, embedding_model=basemodel)\n",
    "    # if fog_img_class.fog_val == 0: continue\n",
    "    fog_img_class.plot_image(plot_crop=False, save_path=os.path.join('media', 'example_images', f'{os.path.basename(fn)}.png')) # plot image with nocturnal and fog value\n",
    "    # break\n"
   ]
  },
  {
   "cell_type": "code",
   "execution_count": 36,
   "id": "67b95d0a",
   "metadata": {},
   "outputs": [
    {
     "name": "stderr",
     "output_type": "stream",
     "text": [
      "C:\\Users\\jnicolow\\AppData\\Local\\Temp\\ipykernel_23584\\1402173526.py:8: DeprecationWarning: Starting with ImageIO v3 the behavior of this function will switch to that of iio.v3.imread. To keep the current behavior (and make this warning disappear) use `import imageio.v2 as imageio` or call `imageio.v2.imread` directly.\n",
      "  image = imageio.imread(filename)\n"
     ]
    },
    {
     "name": "stdout",
     "output_type": "stream",
     "text": [
      "GIF saved as 'media/fog_timelapse_animation.gif'\n"
     ]
    }
   ],
   "source": [
    "import imageio\n",
    "\n",
    "# List of image filenames (make sure they are in order)\n",
    "filenames = glob(os.path.join('media', 'example_images', '*.png'))\n",
    "\n",
    "with imageio.get_writer(os.path.join('media', 'fog_timelapse_animation.gif'), mode='I', duration=0.5) as writer:\n",
    "    for filename in filenames:\n",
    "        image = imageio.imread(filename)\n",
    "        writer.append_data(image)\n",
    "\n",
    "print(\"GIF saved as 'media/fog_timelapse_animation.gif'\")"
   ]
  }
 ],
 "metadata": {
  "kernelspec": {
   "display_name": "fogvision",
   "language": "python",
   "name": "python3"
  },
  "language_info": {
   "codemirror_mode": {
    "name": "ipython",
    "version": 3
   },
   "file_extension": ".py",
   "mimetype": "text/x-python",
   "name": "python",
   "nbconvert_exporter": "python",
   "pygments_lexer": "ipython3",
   "version": "3.11.11"
  }
 },
 "nbformat": 4,
 "nbformat_minor": 5
}
