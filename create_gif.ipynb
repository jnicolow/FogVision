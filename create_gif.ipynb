{
 "cells": [
  {
   "cell_type": "code",
   "execution_count": 3,
   "id": "cdd1ae4b",
   "metadata": {},
   "outputs": [],
   "source": [
    "# import modules\n",
    "import os\n",
    "from glob import glob\n",
    "import joblib\n",
    "\n",
    "import torch\n",
    "import torch.nn as nn\n",
    "import torchvision.models as models\n",
    "\n",
    "from fogvision import gpuutils\n",
    "from fogvision import fogimageclass"
   ]
  },
  {
   "cell_type": "markdown",
   "id": "4728cc6c",
   "metadata": {},
   "source": [
    "# FogVision image classification models\n",
    "There are two fogvision inference classification heads one for diurnal and one for nocturnal imagery; both working with resnet50 embeddings"
   ]
  },
  {
   "cell_type": "code",
   "execution_count": 4,
   "id": "bf36e8b8",
   "metadata": {},
   "outputs": [
    {
     "name": "stdout",
     "output_type": "stream",
     "text": [
      "cuda:0\n"
     ]
    }
   ],
   "source": [
    "# initialize embedder \n",
    "basemodel = models.resnet50(pretrained=True)\n",
    "\n",
    "num_ftrs = basemodel.fc.in_features\n",
    "basemodel.fc = nn.Identity()  # Set the classification layer to identity to output embeddings\n",
    "\n",
    "# choose device\n",
    "device = gpuutils.get_gpu_most_memory() # if gpus avaible get one with most memory\n",
    "print(device)\n",
    "\n",
    "# put the model in evaluation mode\n",
    "model = basemodel.to(device)\n",
    "model.eval()\n",
    "\n",
    "\n",
    "# initialize classification heads (saved from cpu)\n",
    "if 'cpu' in str(device):\n",
    "    diurnal_classif_head = torch.load(os.path.join('models', f'fogvision_inference_head_model_diurnal_cpu.pkl'), map_location=device) # NOTE when running model on cpu\n",
    "    nocturnal_classif_head = torch.load(os.path.join('models', f'fogvision_inference_head_model_nocturnal_cpu.pkl'), map_location=device) # when loading onto cuda\n",
    "else:\n",
    "    diurnal_classif_head = joblib.load(os.path.join('models', f'fogvision_inference_head_model_diurnal.pkl')) # NOTE when loading onto cuda\n",
    "    nocturnal_classif_head = joblib.load(os.path.join('models', f'fogvision_inference_head_model_nocturnal.pkl')) \n",
    "\n"
   ]
  },
  {
   "cell_type": "markdown",
   "id": "f12e0ab4",
   "metadata": {},
   "source": [
    "# FogVision image classification\n",
    "The fog image class can be used to classify images (as shown below). Given the image filepath, the embedding mode and the classification head model. If the image [center] is gray scale the nocturnal model will be used."
   ]
  },
  {
   "cell_type": "code",
   "execution_count": 37,
   "id": "d4ef1195",
   "metadata": {},
   "outputs": [
    {
     "name": "stdout",
     "output_type": "stream",
     "text": [
      "96\n",
      "['C:\\\\Users\\\\jnicolow\\\\Documents\\\\research\\\\fog\\\\training_data\\\\waiopai\\\\diurnal\\\\clearOfFog\\\\waiopai_2022-05-20_053550.jpg', 'C:\\\\Users\\\\jnicolow\\\\Documents\\\\research\\\\fog\\\\training_data\\\\waiopai\\\\diurnal\\\\clearOfFog\\\\waiopai_2022-05-20_055051.jpg', 'C:\\\\Users\\\\jnicolow\\\\Documents\\\\research\\\\fog\\\\training_data\\\\waiopai\\\\diurnal\\\\clearOfFog\\\\waiopai_2022-05-20_060553.jpg', 'C:\\\\Users\\\\jnicolow\\\\Documents\\\\research\\\\fog\\\\training_data\\\\waiopai\\\\diurnal\\\\clearOfFog\\\\waiopai_2022-05-20_062054.jpg', 'C:\\\\Users\\\\jnicolow\\\\Documents\\\\research\\\\fog\\\\training_data\\\\waiopai\\\\diurnal\\\\clearOfFog\\\\waiopai_2022-05-20_063555.jpg', 'C:\\\\Users\\\\jnicolow\\\\Documents\\\\research\\\\fog\\\\training_data\\\\waiopai\\\\diurnal\\\\clearOfFog\\\\waiopai_2022-05-20_072059.jpg', 'C:\\\\Users\\\\jnicolow\\\\Documents\\\\research\\\\fog\\\\training_data\\\\waiopai\\\\diurnal\\\\clearOfFog\\\\waiopai_2022-05-20_075102.jpg', 'C:\\\\Users\\\\jnicolow\\\\Documents\\\\research\\\\fog\\\\training_data\\\\waiopai\\\\diurnal\\\\clearOfFog\\\\waiopai_2022-05-20_080603.jpg', 'C:\\\\Users\\\\jnicolow\\\\Documents\\\\research\\\\fog\\\\training_data\\\\waiopai\\\\diurnal\\\\fog\\\\waiopai_2022-05-20_065057.jpg', 'C:\\\\Users\\\\jnicolow\\\\Documents\\\\research\\\\fog\\\\training_data\\\\waiopai\\\\diurnal\\\\fog\\\\waiopai_2022-05-20_070558.jpg', 'C:\\\\Users\\\\jnicolow\\\\Documents\\\\research\\\\fog\\\\training_data\\\\waiopai\\\\diurnal\\\\fog\\\\waiopai_2022-05-20_073601.jpg', 'C:\\\\Users\\\\jnicolow\\\\Documents\\\\research\\\\fog\\\\training_data\\\\waiopai\\\\diurnal\\\\fog\\\\waiopai_2022-05-20_082105.jpg', 'C:\\\\Users\\\\jnicolow\\\\Documents\\\\research\\\\fog\\\\training_data\\\\waiopai\\\\diurnal\\\\fog\\\\waiopai_2022-05-20_083606.jpg', 'C:\\\\Users\\\\jnicolow\\\\Documents\\\\research\\\\fog\\\\training_data\\\\waiopai\\\\diurnal\\\\fog\\\\waiopai_2022-05-20_085107.jpg', 'C:\\\\Users\\\\jnicolow\\\\Documents\\\\research\\\\fog\\\\training_data\\\\waiopai\\\\diurnal\\\\fog\\\\waiopai_2022-05-20_090609.jpg', 'C:\\\\Users\\\\jnicolow\\\\Documents\\\\research\\\\fog\\\\training_data\\\\waiopai\\\\diurnal\\\\fog\\\\waiopai_2022-05-20_092110.jpg', 'C:\\\\Users\\\\jnicolow\\\\Documents\\\\research\\\\fog\\\\training_data\\\\waiopai\\\\diurnal\\\\fog\\\\waiopai_2022-05-20_093611.jpg', 'C:\\\\Users\\\\jnicolow\\\\Documents\\\\research\\\\fog\\\\training_data\\\\waiopai\\\\diurnal\\\\fog\\\\waiopai_2022-05-20_095113.jpg', 'C:\\\\Users\\\\jnicolow\\\\Documents\\\\research\\\\fog\\\\training_data\\\\waiopai\\\\diurnal\\\\fog\\\\waiopai_2022-05-20_100614.jpg', 'C:\\\\Users\\\\jnicolow\\\\Documents\\\\research\\\\fog\\\\training_data\\\\waiopai\\\\diurnal\\\\fog\\\\waiopai_2022-05-20_102115.jpg', 'C:\\\\Users\\\\jnicolow\\\\Documents\\\\research\\\\fog\\\\training_data\\\\waiopai\\\\diurnal\\\\fog\\\\waiopai_2022-05-20_103616.jpg', 'C:\\\\Users\\\\jnicolow\\\\Documents\\\\research\\\\fog\\\\training_data\\\\waiopai\\\\diurnal\\\\fog\\\\waiopai_2022-05-20_105118.jpg', 'C:\\\\Users\\\\jnicolow\\\\Documents\\\\research\\\\fog\\\\training_data\\\\waiopai\\\\diurnal\\\\fog\\\\waiopai_2022-05-20_110619.jpg', 'C:\\\\Users\\\\jnicolow\\\\Documents\\\\research\\\\fog\\\\training_data\\\\waiopai\\\\diurnal\\\\fog\\\\waiopai_2022-05-20_112121.jpg', 'C:\\\\Users\\\\jnicolow\\\\Documents\\\\research\\\\fog\\\\training_data\\\\waiopai\\\\diurnal\\\\fog\\\\waiopai_2022-05-20_113622.jpg', 'C:\\\\Users\\\\jnicolow\\\\Documents\\\\research\\\\fog\\\\training_data\\\\waiopai\\\\diurnal\\\\fog\\\\waiopai_2022-05-20_115123.jpg', 'C:\\\\Users\\\\jnicolow\\\\Documents\\\\research\\\\fog\\\\training_data\\\\waiopai\\\\diurnal\\\\fog\\\\waiopai_2022-05-20_120625.jpg', 'C:\\\\Users\\\\jnicolow\\\\Documents\\\\research\\\\fog\\\\training_data\\\\waiopai\\\\diurnal\\\\fog\\\\waiopai_2022-05-20_122126.jpg', 'C:\\\\Users\\\\jnicolow\\\\Documents\\\\research\\\\fog\\\\training_data\\\\waiopai\\\\diurnal\\\\fog\\\\waiopai_2022-05-20_123628.jpg', 'C:\\\\Users\\\\jnicolow\\\\Documents\\\\research\\\\fog\\\\training_data\\\\waiopai\\\\diurnal\\\\fog\\\\waiopai_2022-05-20_125129.jpg', 'C:\\\\Users\\\\jnicolow\\\\Documents\\\\research\\\\fog\\\\training_data\\\\waiopai\\\\diurnal\\\\fog\\\\waiopai_2022-05-20_130630.jpg', 'C:\\\\Users\\\\jnicolow\\\\Documents\\\\research\\\\fog\\\\training_data\\\\waiopai\\\\diurnal\\\\fog\\\\waiopai_2022-05-20_132132.jpg', 'C:\\\\Users\\\\jnicolow\\\\Documents\\\\research\\\\fog\\\\training_data\\\\waiopai\\\\diurnal\\\\fog\\\\waiopai_2022-05-20_133633.jpg', 'C:\\\\Users\\\\jnicolow\\\\Documents\\\\research\\\\fog\\\\training_data\\\\waiopai\\\\diurnal\\\\fog\\\\waiopai_2022-05-20_135134.jpg', 'C:\\\\Users\\\\jnicolow\\\\Documents\\\\research\\\\fog\\\\training_data\\\\waiopai\\\\diurnal\\\\fog\\\\waiopai_2022-05-20_140636.jpg', 'C:\\\\Users\\\\jnicolow\\\\Documents\\\\research\\\\fog\\\\training_data\\\\waiopai\\\\diurnal\\\\fog\\\\waiopai_2022-05-20_142137.jpg', 'C:\\\\Users\\\\jnicolow\\\\Documents\\\\research\\\\fog\\\\training_data\\\\waiopai\\\\diurnal\\\\fog\\\\waiopai_2022-05-20_143638.jpg', 'C:\\\\Users\\\\jnicolow\\\\Documents\\\\research\\\\fog\\\\training_data\\\\waiopai\\\\diurnal\\\\fog\\\\waiopai_2022-05-20_145140.jpg', 'C:\\\\Users\\\\jnicolow\\\\Documents\\\\research\\\\fog\\\\training_data\\\\waiopai\\\\diurnal\\\\fog\\\\waiopai_2022-05-20_150641.jpg', 'C:\\\\Users\\\\jnicolow\\\\Documents\\\\research\\\\fog\\\\training_data\\\\waiopai\\\\diurnal\\\\fog\\\\waiopai_2022-05-20_152142.jpg', 'C:\\\\Users\\\\jnicolow\\\\Documents\\\\research\\\\fog\\\\training_data\\\\waiopai\\\\diurnal\\\\fog\\\\waiopai_2022-05-20_153644.jpg', 'C:\\\\Users\\\\jnicolow\\\\Documents\\\\research\\\\fog\\\\training_data\\\\waiopai\\\\diurnal\\\\fog\\\\waiopai_2022-05-20_155145.jpg', 'C:\\\\Users\\\\jnicolow\\\\Documents\\\\research\\\\fog\\\\training_data\\\\waiopai\\\\diurnal\\\\fog\\\\waiopai_2022-05-20_160646.jpg', 'C:\\\\Users\\\\jnicolow\\\\Documents\\\\research\\\\fog\\\\training_data\\\\waiopai\\\\diurnal\\\\fog\\\\waiopai_2022-05-20_162147.jpg', 'C:\\\\Users\\\\jnicolow\\\\Documents\\\\research\\\\fog\\\\training_data\\\\waiopai\\\\diurnal\\\\fog\\\\waiopai_2022-05-20_163649.jpg', 'C:\\\\Users\\\\jnicolow\\\\Documents\\\\research\\\\fog\\\\training_data\\\\waiopai\\\\diurnal\\\\fog\\\\waiopai_2022-05-20_165150.jpg', 'C:\\\\Users\\\\jnicolow\\\\Documents\\\\research\\\\fog\\\\training_data\\\\waiopai\\\\diurnal\\\\fog\\\\waiopai_2022-05-20_170651.jpg', 'C:\\\\Users\\\\jnicolow\\\\Documents\\\\research\\\\fog\\\\training_data\\\\waiopai\\\\diurnal\\\\fog\\\\waiopai_2022-05-20_172153.jpg', 'C:\\\\Users\\\\jnicolow\\\\Documents\\\\research\\\\fog\\\\training_data\\\\waiopai\\\\diurnal\\\\fog\\\\waiopai_2022-05-20_173654.jpg', 'C:\\\\Users\\\\jnicolow\\\\Documents\\\\research\\\\fog\\\\training_data\\\\waiopai\\\\diurnal\\\\fog\\\\waiopai_2022-05-20_175155.jpg', 'C:\\\\Users\\\\jnicolow\\\\Documents\\\\research\\\\fog\\\\training_data\\\\waiopai\\\\diurnal\\\\fog\\\\waiopai_2022-05-20_180657.jpg', 'C:\\\\Users\\\\jnicolow\\\\Documents\\\\research\\\\fog\\\\training_data\\\\waiopai\\\\diurnal\\\\fog\\\\waiopai_2022-05-20_182158.jpg', 'C:\\\\Users\\\\jnicolow\\\\Documents\\\\research\\\\fog\\\\training_data\\\\waiopai\\\\diurnal\\\\fog\\\\waiopai_2022-05-20_183659.jpg', 'C:\\\\Users\\\\jnicolow\\\\Documents\\\\research\\\\fog\\\\training_data\\\\waiopai\\\\diurnal\\\\fog\\\\waiopai_2022-05-20_185201.jpg', 'C:\\\\Users\\\\jnicolow\\\\Documents\\\\research\\\\fog\\\\training_data\\\\waiopai\\\\diurnal\\\\fog\\\\waiopai_2022-05-20_190702.jpg', 'C:\\\\Users\\\\jnicolow\\\\Documents\\\\research\\\\fog\\\\training_data\\\\waiopai\\\\nocturnal\\\\clearOfFog\\\\waiopai_2022-05-20_000521.jpg', 'C:\\\\Users\\\\jnicolow\\\\Documents\\\\research\\\\fog\\\\training_data\\\\waiopai\\\\nocturnal\\\\clearOfFog\\\\waiopai_2022-05-20_002023.jpg', 'C:\\\\Users\\\\jnicolow\\\\Documents\\\\research\\\\fog\\\\training_data\\\\waiopai\\\\nocturnal\\\\clearOfFog\\\\waiopai_2022-05-20_003524.jpg', 'C:\\\\Users\\\\jnicolow\\\\Documents\\\\research\\\\fog\\\\training_data\\\\waiopai\\\\nocturnal\\\\clearOfFog\\\\waiopai_2022-05-20_005025.jpg', 'C:\\\\Users\\\\jnicolow\\\\Documents\\\\research\\\\fog\\\\training_data\\\\waiopai\\\\nocturnal\\\\clearOfFog\\\\waiopai_2022-05-20_010527.jpg', 'C:\\\\Users\\\\jnicolow\\\\Documents\\\\research\\\\fog\\\\training_data\\\\waiopai\\\\nocturnal\\\\clearOfFog\\\\waiopai_2022-05-20_012028.jpg', 'C:\\\\Users\\\\jnicolow\\\\Documents\\\\research\\\\fog\\\\training_data\\\\waiopai\\\\nocturnal\\\\clearOfFog\\\\waiopai_2022-05-20_013529.jpg', 'C:\\\\Users\\\\jnicolow\\\\Documents\\\\research\\\\fog\\\\training_data\\\\waiopai\\\\nocturnal\\\\clearOfFog\\\\waiopai_2022-05-20_015030.jpg', 'C:\\\\Users\\\\jnicolow\\\\Documents\\\\research\\\\fog\\\\training_data\\\\waiopai\\\\nocturnal\\\\clearOfFog\\\\waiopai_2022-05-20_020532.jpg', 'C:\\\\Users\\\\jnicolow\\\\Documents\\\\research\\\\fog\\\\training_data\\\\waiopai\\\\nocturnal\\\\clearOfFog\\\\waiopai_2022-05-20_022033.jpg', 'C:\\\\Users\\\\jnicolow\\\\Documents\\\\research\\\\fog\\\\training_data\\\\waiopai\\\\nocturnal\\\\clearOfFog\\\\waiopai_2022-05-20_023534.jpg', 'C:\\\\Users\\\\jnicolow\\\\Documents\\\\research\\\\fog\\\\training_data\\\\waiopai\\\\nocturnal\\\\clearOfFog\\\\waiopai_2022-05-20_025036.jpg', 'C:\\\\Users\\\\jnicolow\\\\Documents\\\\research\\\\fog\\\\training_data\\\\waiopai\\\\nocturnal\\\\clearOfFog\\\\waiopai_2022-05-20_030537.jpg', 'C:\\\\Users\\\\jnicolow\\\\Documents\\\\research\\\\fog\\\\training_data\\\\waiopai\\\\nocturnal\\\\clearOfFog\\\\waiopai_2022-05-20_032038.jpg', 'C:\\\\Users\\\\jnicolow\\\\Documents\\\\research\\\\fog\\\\training_data\\\\waiopai\\\\nocturnal\\\\clearOfFog\\\\waiopai_2022-05-20_033539.jpg', 'C:\\\\Users\\\\jnicolow\\\\Documents\\\\research\\\\fog\\\\training_data\\\\waiopai\\\\nocturnal\\\\clearOfFog\\\\waiopai_2022-05-20_035041.jpg', 'C:\\\\Users\\\\jnicolow\\\\Documents\\\\research\\\\fog\\\\training_data\\\\waiopai\\\\nocturnal\\\\clearOfFog\\\\waiopai_2022-05-20_040542.jpg', 'C:\\\\Users\\\\jnicolow\\\\Documents\\\\research\\\\fog\\\\training_data\\\\waiopai\\\\nocturnal\\\\clearOfFog\\\\waiopai_2022-05-20_042043.jpg', 'C:\\\\Users\\\\jnicolow\\\\Documents\\\\research\\\\fog\\\\training_data\\\\waiopai\\\\nocturnal\\\\clearOfFog\\\\waiopai_2022-05-20_043545.jpg', 'C:\\\\Users\\\\jnicolow\\\\Documents\\\\research\\\\fog\\\\training_data\\\\waiopai\\\\nocturnal\\\\clearOfFog\\\\waiopai_2022-05-20_045046.jpg', 'C:\\\\Users\\\\jnicolow\\\\Documents\\\\research\\\\fog\\\\training_data\\\\waiopai\\\\nocturnal\\\\clearOfFog\\\\waiopai_2022-05-20_050547.jpg', 'C:\\\\Users\\\\jnicolow\\\\Documents\\\\research\\\\fog\\\\training_data\\\\waiopai\\\\nocturnal\\\\clearOfFog\\\\waiopai_2022-05-20_052049.jpg', 'C:\\\\Users\\\\jnicolow\\\\Documents\\\\research\\\\fog\\\\training_data\\\\waiopai\\\\nocturnal\\\\clearOfFog\\\\waiopai_2022-05-20_202208.jpg', 'C:\\\\Users\\\\jnicolow\\\\Documents\\\\research\\\\fog\\\\training_data\\\\waiopai\\\\nocturnal\\\\clearOfFog\\\\waiopai_2022-05-20_203710.jpg', 'C:\\\\Users\\\\jnicolow\\\\Documents\\\\research\\\\fog\\\\training_data\\\\waiopai\\\\nocturnal\\\\clearOfFog\\\\waiopai_2022-05-20_205211.jpg', 'C:\\\\Users\\\\jnicolow\\\\Documents\\\\research\\\\fog\\\\training_data\\\\waiopai\\\\nocturnal\\\\clearOfFog\\\\waiopai_2022-05-20_210712.jpg', 'C:\\\\Users\\\\jnicolow\\\\Documents\\\\research\\\\fog\\\\training_data\\\\waiopai\\\\nocturnal\\\\clearOfFog\\\\waiopai_2022-05-20_212214.jpg', 'C:\\\\Users\\\\jnicolow\\\\Documents\\\\research\\\\fog\\\\training_data\\\\waiopai\\\\nocturnal\\\\clearOfFog\\\\waiopai_2022-05-20_213715.jpg', 'C:\\\\Users\\\\jnicolow\\\\Documents\\\\research\\\\fog\\\\training_data\\\\waiopai\\\\nocturnal\\\\clearOfFog\\\\waiopai_2022-05-20_215216.jpg', 'C:\\\\Users\\\\jnicolow\\\\Documents\\\\research\\\\fog\\\\training_data\\\\waiopai\\\\nocturnal\\\\clearOfFog\\\\waiopai_2022-05-20_220717.jpg', 'C:\\\\Users\\\\jnicolow\\\\Documents\\\\research\\\\fog\\\\training_data\\\\waiopai\\\\nocturnal\\\\clearOfFog\\\\waiopai_2022-05-20_222219.jpg', 'C:\\\\Users\\\\jnicolow\\\\Documents\\\\research\\\\fog\\\\training_data\\\\waiopai\\\\nocturnal\\\\clearOfFog\\\\waiopai_2022-05-20_223720.jpg', 'C:\\\\Users\\\\jnicolow\\\\Documents\\\\research\\\\fog\\\\training_data\\\\waiopai\\\\nocturnal\\\\clearOfFog\\\\waiopai_2022-05-20_225221.jpg', 'C:\\\\Users\\\\jnicolow\\\\Documents\\\\research\\\\fog\\\\training_data\\\\waiopai\\\\nocturnal\\\\clearOfFog\\\\waiopai_2022-05-20_230723.jpg', 'C:\\\\Users\\\\jnicolow\\\\Documents\\\\research\\\\fog\\\\training_data\\\\waiopai\\\\nocturnal\\\\clearOfFog\\\\waiopai_2022-05-20_232224.jpg', 'C:\\\\Users\\\\jnicolow\\\\Documents\\\\research\\\\fog\\\\training_data\\\\waiopai\\\\nocturnal\\\\clearOfFog\\\\waiopai_2022-05-20_233725.jpg', 'C:\\\\Users\\\\jnicolow\\\\Documents\\\\research\\\\fog\\\\training_data\\\\waiopai\\\\nocturnal\\\\clearOfFog\\\\waiopai_2022-05-20_235226.jpg', 'C:\\\\Users\\\\jnicolow\\\\Documents\\\\research\\\\fog\\\\training_data\\\\waiopai\\\\nocturnal\\\\fog\\\\waiopai_2022-05-20_192203.jpg', 'C:\\\\Users\\\\jnicolow\\\\Documents\\\\research\\\\fog\\\\training_data\\\\waiopai\\\\nocturnal\\\\fog\\\\waiopai_2022-05-20_193705.jpg', 'C:\\\\Users\\\\jnicolow\\\\Documents\\\\research\\\\fog\\\\training_data\\\\waiopai\\\\nocturnal\\\\fog\\\\waiopai_2022-05-20_195206.jpg', 'C:\\\\Users\\\\jnicolow\\\\Documents\\\\research\\\\fog\\\\training_data\\\\waiopai\\\\nocturnal\\\\fog\\\\waiopai_2022-05-20_200707.jpg']\n"
     ]
    }
   ],
   "source": [
    "# get a list of filenames for a given day\n",
    "from datetime import datetime\n",
    "data_dir = r'C:\\Users\\jnicolow\\Documents\\research\\fog\\training_data\\waiopai'\n",
    "\n",
    "file_names = glob(os.path.join(data_dir, '*', '*', '*.jpg'))\n",
    "\n",
    "target_date = \"2022-05-20\"\n",
    "# target_date = \"2022-05-22\"\n",
    "# target_date = \"2022-05-21\"\n",
    "\n",
    "image_fns = [f for f in file_names if target_date in f]\n",
    "\n",
    "files_on_date_sorted = sorted(\n",
    "    image_fns,\n",
    "    key=lambda f: datetime.strptime(os.path.basename(f).split('_')[1] + \"_\" + os.path.basename(f).split('_')[2].split('.')[0],\n",
    "                                    \"%Y-%m-%d_%H%M%S\")\n",
    ")\n",
    "\n",
    "print(len(image_fns))\n",
    "print(image_fns)"
   ]
  },
  {
   "cell_type": "code",
   "execution_count": null,
   "id": "2eef222a",
   "metadata": {},
   "outputs": [
    {
     "name": "stdout",
     "output_type": "stream",
     "text": [
      "Image saved to media\\example_images\\waiopai_2022-05-20_053550.jpg.png\n",
      "Image saved to media\\example_images\\waiopai_2022-05-20_055051.jpg.png\n",
      "Image saved to media\\example_images\\waiopai_2022-05-20_060553.jpg.png\n",
      "Image saved to media\\example_images\\waiopai_2022-05-20_062054.jpg.png\n",
      "Image saved to media\\example_images\\waiopai_2022-05-20_063555.jpg.png\n",
      "Image saved to media\\example_images\\waiopai_2022-05-20_072059.jpg.png\n",
      "Image saved to media\\example_images\\waiopai_2022-05-20_075102.jpg.png\n",
      "Image saved to media\\example_images\\waiopai_2022-05-20_080603.jpg.png\n",
      "Image saved to media\\example_images\\waiopai_2022-05-20_065057.jpg.png\n",
      "Image saved to media\\example_images\\waiopai_2022-05-20_070558.jpg.png\n",
      "Image saved to media\\example_images\\waiopai_2022-05-20_073601.jpg.png\n",
      "Image saved to media\\example_images\\waiopai_2022-05-20_082105.jpg.png\n",
      "Image saved to media\\example_images\\waiopai_2022-05-20_083606.jpg.png\n",
      "Image saved to media\\example_images\\waiopai_2022-05-20_085107.jpg.png\n",
      "Image saved to media\\example_images\\waiopai_2022-05-20_090609.jpg.png\n",
      "Image saved to media\\example_images\\waiopai_2022-05-20_092110.jpg.png\n",
      "Image saved to media\\example_images\\waiopai_2022-05-20_093611.jpg.png\n",
      "Image saved to media\\example_images\\waiopai_2022-05-20_095113.jpg.png\n",
      "Image saved to media\\example_images\\waiopai_2022-05-20_100614.jpg.png\n",
      "Image saved to media\\example_images\\waiopai_2022-05-20_102115.jpg.png\n",
      "Image saved to media\\example_images\\waiopai_2022-05-20_103616.jpg.png\n",
      "Image saved to media\\example_images\\waiopai_2022-05-20_105118.jpg.png\n",
      "Image saved to media\\example_images\\waiopai_2022-05-20_110619.jpg.png\n",
      "Image saved to media\\example_images\\waiopai_2022-05-20_112121.jpg.png\n",
      "Image saved to media\\example_images\\waiopai_2022-05-20_113622.jpg.png\n",
      "Image saved to media\\example_images\\waiopai_2022-05-20_115123.jpg.png\n",
      "Image saved to media\\example_images\\waiopai_2022-05-20_120625.jpg.png\n",
      "Image saved to media\\example_images\\waiopai_2022-05-20_122126.jpg.png\n",
      "Image saved to media\\example_images\\waiopai_2022-05-20_123628.jpg.png\n",
      "Image saved to media\\example_images\\waiopai_2022-05-20_125129.jpg.png\n",
      "Image saved to media\\example_images\\waiopai_2022-05-20_130630.jpg.png\n",
      "Image saved to media\\example_images\\waiopai_2022-05-20_132132.jpg.png\n",
      "Image saved to media\\example_images\\waiopai_2022-05-20_133633.jpg.png\n",
      "Image saved to media\\example_images\\waiopai_2022-05-20_135134.jpg.png\n",
      "Image saved to media\\example_images\\waiopai_2022-05-20_140636.jpg.png\n",
      "Image saved to media\\example_images\\waiopai_2022-05-20_142137.jpg.png\n",
      "Image saved to media\\example_images\\waiopai_2022-05-20_143638.jpg.png\n",
      "Image saved to media\\example_images\\waiopai_2022-05-20_145140.jpg.png\n",
      "Image saved to media\\example_images\\waiopai_2022-05-20_150641.jpg.png\n",
      "Image saved to media\\example_images\\waiopai_2022-05-20_152142.jpg.png\n",
      "Image saved to media\\example_images\\waiopai_2022-05-20_153644.jpg.png\n",
      "Image saved to media\\example_images\\waiopai_2022-05-20_155145.jpg.png\n",
      "Image saved to media\\example_images\\waiopai_2022-05-20_160646.jpg.png\n",
      "Image saved to media\\example_images\\waiopai_2022-05-20_162147.jpg.png\n",
      "Image saved to media\\example_images\\waiopai_2022-05-20_163649.jpg.png\n",
      "Image saved to media\\example_images\\waiopai_2022-05-20_165150.jpg.png\n",
      "Image saved to media\\example_images\\waiopai_2022-05-20_170651.jpg.png\n",
      "Image saved to media\\example_images\\waiopai_2022-05-20_172153.jpg.png\n",
      "Image saved to media\\example_images\\waiopai_2022-05-20_173654.jpg.png\n",
      "Image saved to media\\example_images\\waiopai_2022-05-20_175155.jpg.png\n",
      "Image saved to media\\example_images\\waiopai_2022-05-20_180657.jpg.png\n",
      "Image saved to media\\example_images\\waiopai_2022-05-20_182158.jpg.png\n",
      "Image saved to media\\example_images\\waiopai_2022-05-20_183659.jpg.png\n",
      "Image saved to media\\example_images\\waiopai_2022-05-20_185201.jpg.png\n",
      "Image saved to media\\example_images\\waiopai_2022-05-20_190702.jpg.png\n",
      "Image saved to media\\example_images\\waiopai_2022-05-20_000521.jpg.png\n",
      "Image saved to media\\example_images\\waiopai_2022-05-20_002023.jpg.png\n",
      "Image saved to media\\example_images\\waiopai_2022-05-20_003524.jpg.png\n",
      "Image saved to media\\example_images\\waiopai_2022-05-20_005025.jpg.png\n",
      "Image saved to media\\example_images\\waiopai_2022-05-20_010527.jpg.png\n",
      "Image saved to media\\example_images\\waiopai_2022-05-20_012028.jpg.png\n",
      "Image saved to media\\example_images\\waiopai_2022-05-20_013529.jpg.png\n",
      "Image saved to media\\example_images\\waiopai_2022-05-20_015030.jpg.png\n",
      "Image saved to media\\example_images\\waiopai_2022-05-20_020532.jpg.png\n",
      "Image saved to media\\example_images\\waiopai_2022-05-20_022033.jpg.png\n",
      "Image saved to media\\example_images\\waiopai_2022-05-20_023534.jpg.png\n",
      "Image saved to media\\example_images\\waiopai_2022-05-20_025036.jpg.png\n",
      "Image saved to media\\example_images\\waiopai_2022-05-20_030537.jpg.png\n",
      "Image saved to media\\example_images\\waiopai_2022-05-20_032038.jpg.png\n",
      "Image saved to media\\example_images\\waiopai_2022-05-20_033539.jpg.png\n",
      "Image saved to media\\example_images\\waiopai_2022-05-20_035041.jpg.png\n",
      "Image saved to media\\example_images\\waiopai_2022-05-20_040542.jpg.png\n",
      "Image saved to media\\example_images\\waiopai_2022-05-20_042043.jpg.png\n",
      "Image saved to media\\example_images\\waiopai_2022-05-20_043545.jpg.png\n",
      "Image saved to media\\example_images\\waiopai_2022-05-20_045046.jpg.png\n",
      "Image saved to media\\example_images\\waiopai_2022-05-20_050547.jpg.png\n",
      "Image saved to media\\example_images\\waiopai_2022-05-20_052049.jpg.png\n",
      "Image saved to media\\example_images\\waiopai_2022-05-20_202208.jpg.png\n",
      "Image saved to media\\example_images\\waiopai_2022-05-20_203710.jpg.png\n",
      "Image saved to media\\example_images\\waiopai_2022-05-20_205211.jpg.png\n",
      "Image saved to media\\example_images\\waiopai_2022-05-20_210712.jpg.png\n",
      "Image saved to media\\example_images\\waiopai_2022-05-20_212214.jpg.png\n",
      "Image saved to media\\example_images\\waiopai_2022-05-20_213715.jpg.png\n",
      "Image saved to media\\example_images\\waiopai_2022-05-20_215216.jpg.png\n",
      "Image saved to media\\example_images\\waiopai_2022-05-20_220717.jpg.png\n",
      "Image saved to media\\example_images\\waiopai_2022-05-20_222219.jpg.png\n",
      "Image saved to media\\example_images\\waiopai_2022-05-20_223720.jpg.png\n",
      "Image saved to media\\example_images\\waiopai_2022-05-20_225221.jpg.png\n",
      "Image saved to media\\example_images\\waiopai_2022-05-20_230723.jpg.png\n",
      "Image saved to media\\example_images\\waiopai_2022-05-20_232224.jpg.png\n",
      "Image saved to media\\example_images\\waiopai_2022-05-20_233725.jpg.png\n",
      "Image saved to media\\example_images\\waiopai_2022-05-20_235226.jpg.png\n",
      "Image saved to media\\example_images\\waiopai_2022-05-20_192203.jpg.png\n",
      "Image saved to media\\example_images\\waiopai_2022-05-20_193705.jpg.png\n",
      "Image saved to media\\example_images\\waiopai_2022-05-20_195206.jpg.png\n",
      "Image saved to media\\example_images\\waiopai_2022-05-20_200707.jpg.png\n"
     ]
    }
   ],
   "source": [
    "import importlib\n",
    "importlib.reload(fogimageclass)\n",
    "# image_fns = glob(os.path.join('data', 'images', '*.jpg')) # NOTE use the ones selected above\n",
    "\n",
    "crop_size = None # if crop size is None then it will take largest crop possible\n",
    "\n",
    "for fn in image_fns:\n",
    "    fog_img_class = fogimageclass.FogImage(filepath=fn, crop_size=crop_size)\n",
    "    if fog_img_class.nocturnal:\n",
    "        fog_img_class.get_fog_val(model=nocturnal_classif_head, embedding_model=basemodel, random_crop=False) # NOTE only takes image embedding from \n",
    "        # fog_img_class.get_fog_val_multiple_regions(model=nocturnal_classif_head, embedding_model=basemodel) # NOTE not ideal for images with a lot of open sky works best on forested environments\n",
    "    else:\n",
    "        fog_img_class.get_fog_val(model=diurnal_classif_head, embedding_model=basemodel, random_crop=False)\n",
    "        # fog_img_class.get_fog_val_multiple_regions(model=diurnal_classif_head, embedding_model=basemodel)\n",
    "    # if fog_img_class.fog_val == 0: continue\n",
    "    fog_img_class.plot_image(plot_crop=False, save_path=os.path.join('media', 'example_images', 'waiopai', f'{os.path.basename(fn)}.png')) # plot image with nocturnal and fog value\n",
    "    # break\n"
   ]
  },
  {
   "cell_type": "code",
   "execution_count": null,
   "id": "67b95d0a",
   "metadata": {},
   "outputs": [
    {
     "name": "stderr",
     "output_type": "stream",
     "text": [
      "C:\\Users\\jnicolow\\AppData\\Local\\Temp\\ipykernel_23584\\1402173526.py:8: DeprecationWarning: Starting with ImageIO v3 the behavior of this function will switch to that of iio.v3.imread. To keep the current behavior (and make this warning disappear) use `import imageio.v2 as imageio` or call `imageio.v2.imread` directly.\n",
      "  image = imageio.imread(filename)\n"
     ]
    },
    {
     "name": "stdout",
     "output_type": "stream",
     "text": [
      "GIF saved as 'media/fog_timelapse_animation.gif'\n"
     ]
    }
   ],
   "source": [
    "import imageio\n",
    "\n",
    "# List of image filenames (make sure they are in order)\n",
    "filenames = glob(os.path.join('media', 'example_images', 'waiopai', '*.png'))\n",
    "\n",
    "with imageio.get_writer(os.path.join('media', 'fog_timelapse_animation.gif'), mode='I', duration=0.5) as writer:\n",
    "    for filename in filenames:\n",
    "        image = imageio.imread(filename)\n",
    "        writer.append_data(image)\n",
    "\n",
    "print(\"GIF saved as 'media/fog_timelapse_animation.gif'\")"
   ]
  }
 ],
 "metadata": {
  "kernelspec": {
   "display_name": "fogvision",
   "language": "python",
   "name": "python3"
  },
  "language_info": {
   "codemirror_mode": {
    "name": "ipython",
    "version": 3
   },
   "file_extension": ".py",
   "mimetype": "text/x-python",
   "name": "python",
   "nbconvert_exporter": "python",
   "pygments_lexer": "ipython3",
   "version": "3.11.11"
  }
 },
 "nbformat": 4,
 "nbformat_minor": 5
}
